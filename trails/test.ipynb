{
 "cells": [
  {
   "cell_type": "code",
   "execution_count": 5,
   "id": "50e2f2fb",
   "metadata": {},
   "outputs": [],
   "source": [
    "## Installing all dependencies for langchain \n",
    "\n",
    "!pip3 install langchain -q\n",
    "!pip3 install langchain-core -q\n",
    "!pip3 install langchain-openai -q\n",
    "!pip3 install langchain-community -q"
   ]
  },
  {
   "cell_type": "code",
   "execution_count": 2,
   "id": "9e861645",
   "metadata": {},
   "outputs": [],
   "source": [
    "## Importing libraries\n",
    "\n",
    "from langchain_core.prompts import ChatPromptTemplate\n",
    "from langchain_openai import ChatOpenAI\n",
    "from langchain_core.output_parsers import StrOutputParser\n",
    "from langchain import chains\n",
    "\n",
    "## for running models locally \n",
    "from langchain_community.llms import ollama\n",
    "\n",
    "#import streamlit as st\n",
    "import os"
   ]
  },
  {
   "cell_type": "markdown",
   "id": "395485b4",
   "metadata": {},
   "source": [
    "# Using API keys for accessing the LLMs Model"
   ]
  },
  {
   "cell_type": "code",
   "execution_count": null,
   "id": "804e60bf",
   "metadata": {},
   "outputs": [],
   "source": [
    "os.environ['langchain_api_key']='lsv2_pt_4aadac2359e44e6788213b01fa912d44_be6430ddXX'"
   ]
  },
  {
   "cell_type": "code",
   "execution_count": 4,
   "id": "612f1bbb",
   "metadata": {},
   "outputs": [],
   "source": [
    "#os.environ['OPEN_API_KEY']=os.getenv('open_api_key')\n",
    "\n",
    "\n",
    "# for tracing using langsmith\n",
    "\n",
    "os.environ['LANGCHAIN_TRACING_V2']='true'\n",
    "os.environ['LANGCHAIN_API_KEY']=os.getenv('langchain_api_key')"
   ]
  },
  {
   "cell_type": "code",
   "execution_count": 5,
   "id": "5e8e59de",
   "metadata": {},
   "outputs": [],
   "source": [
    "LANGSMITH_TRACING='true'\n",
    "LANGSMITH_ENDPOINT=\"https://api.smith.langchain.com\"\n",
    "LANGSMITH_API_KEY=os.getenv('langchain_api_key')\n",
    "LANGSMITH_PROJECT=\"pr-enchanted-almond-17\"\n",
    "#OPENAI_API_KEY=\"<your-openai-api-key>\""
   ]
  },
  {
   "cell_type": "code",
   "execution_count": 1,
   "id": "8f3881fe",
   "metadata": {},
   "outputs": [
    {
     "ename": "NameError",
     "evalue": "name 'ChatPromptTemplate' is not defined",
     "output_type": "error",
     "traceback": [
      "\u001b[0;31m---------------------------------------------------------------------------\u001b[0m",
      "\u001b[0;31mNameError\u001b[0m                                 Traceback (most recent call last)",
      "Cell \u001b[0;32mIn[1], line 1\u001b[0m\n\u001b[0;32m----> 1\u001b[0m prompt\u001b[38;5;241m=\u001b[39m\u001b[43mChatPromptTemplate\u001b[49m\u001b[38;5;241m.\u001b[39mfrom_messages(\n\u001b[1;32m      2\u001b[0m     [\n\u001b[1;32m      3\u001b[0m         (\u001b[38;5;124m\"\u001b[39m\u001b[38;5;124msystem\u001b[39m\u001b[38;5;124m\"\u001b[39m,\u001b[38;5;124m\"\u001b[39m\u001b[38;5;124myou are helpful assistant and good at giving career advise\u001b[39m\u001b[38;5;124m\"\u001b[39m),\n\u001b[1;32m      4\u001b[0m         (\u001b[38;5;124m\"\u001b[39m\u001b[38;5;124muser\u001b[39m\u001b[38;5;124m\"\u001b[39m,\u001b[38;5;124m\"\u001b[39m\u001b[38;5;124mQuestion:\u001b[39m\u001b[38;5;132;01m{question}\u001b[39;00m\u001b[38;5;124m\"\u001b[39m)\n\u001b[1;32m      5\u001b[0m     ]\n\u001b[1;32m      6\u001b[0m )\n\u001b[1;32m      8\u001b[0m llm\u001b[38;5;241m=\u001b[39mChatOpenAI(model\u001b[38;5;241m=\u001b[39m\u001b[38;5;124m\"\u001b[39m\u001b[38;5;124mgpt-3.5-turbo\u001b[39m\u001b[38;5;124m\"\u001b[39m)\n\u001b[1;32m     10\u001b[0m output_parser\u001b[38;5;241m=\u001b[39mStrOutputParser()\n",
      "\u001b[0;31mNameError\u001b[0m: name 'ChatPromptTemplate' is not defined"
     ]
    }
   ],
   "source": [
    "\n",
    "prompt=ChatPromptTemplate.from_messages(\n",
    "    [\n",
    "        (\"system\",\"you are helpful assistant and good at giving career advise\"),\n",
    "        (\"user\",\"Question:{question}\")\n",
    "    ]\n",
    ")\n",
    "\n",
    "llm=ChatOpenAI(model=\"gpt-3.5-turbo\")\n",
    "\n",
    "output_parser=StrOutputParser()\n",
    "\n",
    "chains=prompt|llm|output_parser \n",
    "\n",
    "chains.invoke({'question':'what can be good career path doctor or engineer'})\n",
    "\n",
    "\n",
    "\n",
    "\n",
    "\n",
    "\n",
    "\n"
   ]
  },
  {
   "cell_type": "markdown",
   "id": "677a27a5",
   "metadata": {},
   "source": [
    "# Using Ollama for running local models"
   ]
  },
  {
   "cell_type": "code",
   "execution_count": 6,
   "id": "08b52bac",
   "metadata": {},
   "outputs": [
    {
     "data": {
      "text/plain": [
       "\"Okay, let’s talk about career paths for doctors and engineers! Both are incredibly rewarding fields, but they have very different focuses. Here’s a breakdown of good options, considering factors like job security, earning potential, and personal interest, broken down into categories:\\n\\n**1. Doctor – Career Paths**\\n\\n* **General Practitioner (GP):** This is a fantastic starting point for many. GPs work in a variety of settings – primary care clinics, hospitals, or even surgeries.  It’s a great way to build a strong foundation and become a trusted healthcare provider.\\n    * **Pros:** High demand, good job security, significant impact on people's lives, relatively lower stress than specialized areas.\\n    * **Cons:** Can be emotionally demanding, long hours, dealing with complex medical situations.\\n* **Specialist Doctor (Within a Field):** This is where you really build your expertise. Some popular specializations include:\\n    * **Cardiologist:** Focuses on heart health.\\n    * **Neurologist:** Deals with disorders of the nervous system.\\n    * **Pediatrician:**  Focuses on children and adolescents.\\n    * **Orthopedic Surgeon:** Specializes in musculoskeletal problems.\\n    * **Oncologist:**  Focuses on cancer treatment.\\n    * **General Surgeon:** Wide range of procedures.\\n    * **Obstetrician/Gynecologist:**  Specializes in women's health.\\n* **Research Physician:**  If you enjoy scientific investigation, this is a good option. It often requires a PhD.\\n* **Public Health Doctor:** Focuses on preventing disease and promoting health within a community.\\n\\n**2. Engineer – Career Paths**\\n\\n* **Civil Engineer:** Designs and oversees infrastructure projects – roads, bridges, dams, etc.  Important for maintaining and growing communities.\\n    * **Pros:** Stable and well-paying, lots of variety in project types, often involves problem-solving.\\n* **Mechanical Engineer:** Designs and develops mechanical systems and devices – from cars and airplanes to industrial machinery.\\n* **Electrical Engineer:** Designs and develops electrical systems and devices – electronics, power, communication, etc.\\n* **Chemical Engineer:** Designs and optimizes chemical processes and production.\\n* **Software Engineer:** Develops software applications for computers and mobile devices. (Increasingly vital)\\n* **Environmental Engineer:** Focuses on protecting the environment through engineering solutions.\\n* **Biomedical Engineer:** Applies engineering principles to medical devices, diagnostics, and treatments. (A growing field)\\n\\n**3.  Combining Both – Specialized Paths**\\n\\n* **Bioinformatics:** Combines biology and computer science to analyze biological data. (Requires strong math and programming skills)\\n* **Medical Device Engineer:** Designs and develops medical devices.\\n* **Healthcare Informatics:** Focuses on using technology to improve healthcare delivery.\\n\\n\\n**To help me give you *even better* advice, could you tell me a bit more about:**\\n\\n*   **What are you interested in *specifically*?** (e.g.,  Do you prefer working with people, machines, or data? Are you drawn to a particular area of medicine or technology?)\\n*   **What kind of work environment do you thrive in?** (e.g., fast-paced, collaborative, independent?)\\n*   **What are your strengths?** (e.g., analytical skills, problem-solving, communication?)\\n*   **Are there any specific areas you’re considering?** (e.g., a particular disease or technology?)\""
      ]
     },
     "execution_count": 6,
     "metadata": {},
     "output_type": "execute_result"
    }
   ],
   "source": [
    "\n",
    "## for running models locally \n",
    "from langchain_community.llms import Ollama\n",
    "\n",
    "prompt=ChatPromptTemplate.from_messages(\n",
    "    [\n",
    "        (\"system\",\"you are helpful assistant and good at giving career advise\"),\n",
    "        (\"user\",\"Question:{question}\")\n",
    "    ]\n",
    ")\n",
    "\n",
    "llm=Ollama(model=\"Gemma3:1b\",base_url=\"http://host.docker.internal:11434\")\n",
    "\n",
    "output_parser=StrOutputParser()\n",
    "\n",
    "chains=prompt|llm|output_parser \n",
    "\n",
    "chains.invoke({'question':'what can be good career path doctor or engineer'})\n"
   ]
  },
  {
   "cell_type": "code",
   "execution_count": null,
   "id": "82632c8b",
   "metadata": {},
   "outputs": [],
   "source": []
  }
 ],
 "metadata": {
  "kernelspec": {
   "display_name": "llm",
   "language": "python",
   "name": "python3"
  },
  "language_info": {
   "codemirror_mode": {
    "name": "ipython",
    "version": 3
   },
   "file_extension": ".py",
   "mimetype": "text/x-python",
   "name": "python",
   "nbconvert_exporter": "python",
   "pygments_lexer": "ipython3",
   "version": "3.8.20"
  }
 },
 "nbformat": 4,
 "nbformat_minor": 5
}
