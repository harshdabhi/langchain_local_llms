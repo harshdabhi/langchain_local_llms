{
 "cells": [
  {
   "cell_type": "code",
   "execution_count": 4,
   "id": "5d31d6b0",
   "metadata": {},
   "outputs": [
    {
     "name": "stdout",
     "output_type": "stream",
     "text": [
      "That’s exciting! Paris is packed with amazing sights and experiences. Here are some top recommendations, blending famous landmarks with local favorites:\n",
      "\n",
      "### Must-See Classics\n",
      "1. **Eiffel Tower**  \n",
      "   Climb or take the elevator to the top for iconic city views, especially beautiful at night when it sparkles hourly.\n",
      "\n",
      "2. **Louvre Museum**  \n",
      "   Home to the Mona Lisa and countless masterpieces. Tip: Book tickets in advance and consider prioritizing a few sections to avoid overwhelm.\n",
      "\n",
      "3. **Notre-Dame Cathedral**  \n",
      "   Even though it’s under restoration, the façade is stunning, and the nearby Île de la Cité is lovely to explore.\n",
      "\n",
      "4. **Montmartre & Sacré-Cœur**  \n",
      "   Stroll through the bohemian streets of Montmartre up to the white-domed basilica. Enjoy panoramic views over Paris.\n",
      "\n",
      "5. **Musée d’Orsay**  \n",
      "   A must for Impressionist art, housed in a beautiful former train station.\n",
      "\n",
      "### Other Wonderful Spots\n",
      "6. **Seine River Cruise**  \n",
      "   A relaxing way to see Paris’s famous monuments from the water, especially in the evening.\n",
      "\n",
      "7. **Le Marais**  \n",
      "   Charming old quarter filled with trendy boutiques, cafés, and the Place des Vosges.\n",
      "\n",
      "8. **Luxembourg Gardens**  \n",
      "   Perfect for a picnic or relaxed stroll. Beautiful landscaping and excellent people-watching.\n",
      "\n",
      "9. **Champs-Élysées & Arc de Triomphe**  \n",
      "   Walk up the avenue and climb the Arc for another fantastic city vista.\n",
      "\n",
      "10. **Palace of Versailles** *(just outside Paris)*  \n",
      "    A day trip, but unforgettable: extravagant palace, stunning gardens, and a glimpse into royal history.\n",
      "\n",
      "### Food & Local Culture\n",
      "- Try a fresh croissant or pain au chocolat at a boulangerie.\n",
      "- Enjoy café life—order an espresso at a street-side table.\n",
      "- Pop into a neighborhood market, like Marché Bastille or Marché Mouffetard.\n",
      "- Sample French classics: cheese, wine, escargot, steak-frites, or crêpes.\n",
      "\n",
      "### Tips\n",
      "- Paris is very walkable and has excellent public transport.\n",
      "- Pick a few sights per day rather than cramming your schedule, and leave time to wander and discover your own favorite places.\n",
      "\n",
      "Would you like recommendations based on your special interests (art, history, food, shopping, etc.) or a suggested itinerary?\n"
     ]
    }
   ],
   "source": [
    "import os\n",
    "from openai import AzureOpenAI\n",
    "import json\n",
    "\n",
    "with open(\"../key.json\", \"r\") as f:\n",
    "    key = json.load(f)\n",
    "    api_key = key[\"azure_open_ai\"]\n",
    "\n",
    "endpoint = \"https://testmyskills.openai.azure.com/\"\n",
    "model_name = \"gpt-4.1\"\n",
    "deployment = \"gpt-4.1\"\n",
    "\n",
    "subscription_key = api_key\n",
    "api_version = \"2024-12-01-preview\"\n",
    "\n",
    "client = AzureOpenAI(\n",
    "    api_version=api_version,\n",
    "    azure_endpoint=endpoint,\n",
    "    api_key=subscription_key,\n",
    ")\n",
    "\n",
    "response = client.chat.completions.create(\n",
    "    messages=[\n",
    "        {\n",
    "            \"role\": \"system\",\n",
    "            \"content\": \"You are a helpful assistant.\",\n",
    "        },\n",
    "        {\n",
    "            \"role\": \"user\",\n",
    "            \"content\": \"I am going to Paris, what should I see?\",\n",
    "        }\n",
    "    ],\n",
    "    max_completion_tokens=800,\n",
    "    temperature=1.0,\n",
    "    top_p=1.0,\n",
    "    frequency_penalty=0.0,\n",
    "    presence_penalty=0.0,\n",
    "    model=deployment\n",
    ")\n",
    "\n",
    "print(response.choices[0].message.content)"
   ]
  },
  {
   "cell_type": "code",
   "execution_count": 9,
   "id": "abb344a1",
   "metadata": {},
   "outputs": [
    {
     "data": {
      "text/plain": [
       "[Choice(finish_reason='stop', index=0, logprobs=None, message=ChatCompletionMessage(content='That’s exciting! Paris is packed with amazing sights and experiences. Here are some top recommendations, blending famous landmarks with local favorites:\\n\\n### Must-See Classics\\n1. **Eiffel Tower**  \\n   Climb or take the elevator to the top for iconic city views, especially beautiful at night when it sparkles hourly.\\n\\n2. **Louvre Museum**  \\n   Home to the Mona Lisa and countless masterpieces. Tip: Book tickets in advance and consider prioritizing a few sections to avoid overwhelm.\\n\\n3. **Notre-Dame Cathedral**  \\n   Even though it’s under restoration, the façade is stunning, and the nearby Île de la Cité is lovely to explore.\\n\\n4. **Montmartre & Sacré-Cœur**  \\n   Stroll through the bohemian streets of Montmartre up to the white-domed basilica. Enjoy panoramic views over Paris.\\n\\n5. **Musée d’Orsay**  \\n   A must for Impressionist art, housed in a beautiful former train station.\\n\\n### Other Wonderful Spots\\n6. **Seine River Cruise**  \\n   A relaxing way to see Paris’s famous monuments from the water, especially in the evening.\\n\\n7. **Le Marais**  \\n   Charming old quarter filled with trendy boutiques, cafés, and the Place des Vosges.\\n\\n8. **Luxembourg Gardens**  \\n   Perfect for a picnic or relaxed stroll. Beautiful landscaping and excellent people-watching.\\n\\n9. **Champs-Élysées & Arc de Triomphe**  \\n   Walk up the avenue and climb the Arc for another fantastic city vista.\\n\\n10. **Palace of Versailles** *(just outside Paris)*  \\n    A day trip, but unforgettable: extravagant palace, stunning gardens, and a glimpse into royal history.\\n\\n### Food & Local Culture\\n- Try a fresh croissant or pain au chocolat at a boulangerie.\\n- Enjoy café life—order an espresso at a street-side table.\\n- Pop into a neighborhood market, like Marché Bastille or Marché Mouffetard.\\n- Sample French classics: cheese, wine, escargot, steak-frites, or crêpes.\\n\\n### Tips\\n- Paris is very walkable and has excellent public transport.\\n- Pick a few sights per day rather than cramming your schedule, and leave time to wander and discover your own favorite places.\\n\\nWould you like recommendations based on your special interests (art, history, food, shopping, etc.) or a suggested itinerary?', refusal=None, role='assistant', annotations=[], audio=None, function_call=None, tool_calls=None), content_filter_results={'hate': {'filtered': False, 'severity': 'safe'}, 'protected_material_code': {'filtered': False, 'detected': False}, 'protected_material_text': {'filtered': False, 'detected': False}, 'self_harm': {'filtered': False, 'severity': 'safe'}, 'sexual': {'filtered': False, 'severity': 'safe'}, 'violence': {'filtered': False, 'severity': 'safe'}})]"
      ]
     },
     "execution_count": 9,
     "metadata": {},
     "output_type": "execute_result"
    }
   ],
   "source": [
    "response.choices"
   ]
  },
  {
   "cell_type": "code",
   "execution_count": null,
   "id": "0529a297",
   "metadata": {},
   "outputs": [],
   "source": []
  }
 ],
 "metadata": {
  "kernelspec": {
   "display_name": "llm",
   "language": "python",
   "name": "python3"
  },
  "language_info": {
   "codemirror_mode": {
    "name": "ipython",
    "version": 3
   },
   "file_extension": ".py",
   "mimetype": "text/x-python",
   "name": "python",
   "nbconvert_exporter": "python",
   "pygments_lexer": "ipython3",
   "version": "3.10.16"
  }
 },
 "nbformat": 4,
 "nbformat_minor": 5
}
