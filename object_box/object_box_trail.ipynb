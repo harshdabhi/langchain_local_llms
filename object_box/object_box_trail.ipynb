{
 "cells": [
  {
   "cell_type": "code",
   "execution_count": 1,
   "id": "3e919c97",
   "metadata": {},
   "outputs": [],
   "source": [
    "\n",
    "from langchain.embeddings import OllamaEmbeddings\n",
    "from langchain.vectorstores import FAISS\n",
    "from langchain.document_loaders import TextLoader,PyPDFDirectoryLoader\n",
    "from langchain.text_splitter import CharacterTextSplitter\n",
    "from langchain_core.prompts import PromptTemplate,ChatPromptTemplate\n",
    "from langchain.chat_models import ChatOllama\n",
    "from langchain.schema.output_parser import StrOutputParser \n",
    "from langchain.chains import create_retrieval_chain\n",
    "from langchain_objectbox.vectorstores import ObjectBox\n",
    "from langchain_community import document_loaders\n",
    "from langchain_groq import ChatGroq\n",
    "from langchain.chains import create_retrieval_chain\n",
    "from langchain.chains.combine_documents import create_stuff_documents_chain\n",
    "\n",
    "\n"
   ]
  },
  {
   "cell_type": "code",
   "execution_count": 2,
   "id": "50778287",
   "metadata": {},
   "outputs": [],
   "source": [
    "import json\n",
    "with open(\"../key.json\") as f:\n",
    "    data = json.load(f)\n",
    "\n",
    "groq_api_key=data[\"groq_api\"]\n",
    "llm = ChatGroq(api_key=groq_api_key,\n",
    "               model=\"gemma2-9b-it\",\n",
    "               temperature=0.2)\n",
    "\n",
    "\n"
   ]
  },
  {
   "cell_type": "code",
   "execution_count": 3,
   "id": "54326f79",
   "metadata": {},
   "outputs": [],
   "source": [
    "prompt=ChatPromptTemplate.from_template(\n",
    "\"\"\"\n",
    "Answer the questions based on the provided context only.\n",
    "Please provide the most accurate response based on the question\n",
    "<context>\n",
    "{context}\n",
    "<context>\n",
    "Questions:{input}\n",
    "\n",
    "\"\"\"\n",
    ")"
   ]
  },
  {
   "cell_type": "code",
   "execution_count": 4,
   "id": "c2702535",
   "metadata": {},
   "outputs": [
    {
     "name": "stderr",
     "output_type": "stream",
     "text": [
      "/tmp/ipykernel_15468/1489251170.py:13: LangChainDeprecationWarning: The class `OllamaEmbeddings` was deprecated in LangChain 0.3.1 and will be removed in 1.0.0. An updated version of the class exists in the :class:`~langchain-ollama package and should be used instead. To use it run `pip install -U :class:`~langchain-ollama` and import as `from :class:`~langchain_ollama import OllamaEmbeddings``.\n",
      "  embedding=OllamaEmbeddings(model=\"nomic-embed-text\",base_url=\"http://host.docker.internal:11434\")\n"
     ]
    }
   ],
   "source": [
    "### vector embedding  and object vectorisation db\n",
    "\n",
    "## loading documents\n",
    "\n",
    "loader=PyPDFDirectoryLoader(\"./us_census\")\n",
    "documents=loader.load()\n",
    "text_splitter=CharacterTextSplitter(chunk_size=1000,chunk_overlap=200)\n",
    "documents=text_splitter.split_documents(documents)\n",
    "document_chain=create_stuff_documents_chain(llm,prompt)\n",
    "\n",
    "## embedding \n",
    "\n",
    "embedding=OllamaEmbeddings(model=\"nomic-embed-text\",base_url=\"http://host.docker.internal:11434\")\n",
    "vectors=ObjectBox.from_documents(documents,embedding,embedding_dimensions=768)\n",
    "retriever=vectors.as_retriever(\n",
    "    search_kwargs={\"k\":2}\n",
    ")\n"
   ]
  },
  {
   "cell_type": "code",
   "execution_count": 5,
   "id": "1aca2e62",
   "metadata": {},
   "outputs": [],
   "source": [
    "retriever_chain=create_retrieval_chain(retriever,document_chain)"
   ]
  },
  {
   "cell_type": "code",
   "execution_count": 6,
   "id": "d80ffca4",
   "metadata": {},
   "outputs": [
    {
     "data": {
      "text/plain": [
       "{'input': 'Household income in usa?',\n",
       " 'context': [Document(metadata={'author': 'U.S. Census Bureau', 'creationdate': '2023-11-29T08:35:27-05:00', 'creator': 'Adobe InDesign 18.2 (Windows)', 'keywords': 'acsbr-016', 'moddate': '2023-11-29T08:44:32-05:00', 'page': 9, 'page_label': '10', 'producer': 'Adobe PDF Library 17.0', 'source': 'us_census/acsbr-016.pdf', 'subject': 'American Community Survey Briefs', 'title': 'Poverty in States and Metropolitan Areas: 2022', 'total_pages': 15, 'trapped': '/False'}, page_content='10 U.S. Census Bureau\\nratios below 50 percent.17 The \\nHouston (6.8 percent), Detroit (6.7 \\npercent), New York (6.4 percent), \\nLos Angeles (6.3 percent), and \\nSan Antonio (6.2 percent) MSAs all \\nwere among the highest rates of \\nindividuals with income-to-poverty \\nratios below 50 percent.18 \\nThe share of people with income \\nbelow 50 percent of their poverty \\nthreshold decreased in 4 of the 25 \\nmost populous metropolitan areas \\nfrom 2021 to 2022, while none of \\nthe largest metropolitan areas saw \\nincreases in the same period.\\nNEAR POVERTY\\nFor those with incomes above their \\npoverty threshold, an income-to-\\npoverty ratio measures how close \\na person is to being in poverty. \\nIndividuals with an income-to-\\npoverty ratio between 100 percent \\nto below 125 percent of their \\npoverty threshold are referred to \\nas being “near poverty” in this \\nbrief.\\nTable 1 displays the percentage of \\npeople in near poverty in 2022 for \\nthe nation, states, the District of \\nColumbia, and Puerto Rico (refer \\nto Appendix Table 3 for 2021 esti-\\nmates). In 2022, the percentage of \\npeople in the United States in near \\npoverty was 3.7 percent, not statis-\\ntically different from 2021.\\nAmong the states, the percentage \\nof individuals in near poverty in \\n2022 ranged from 2.4 percent to \\n17 In 2022, the percentages of people with \\nan income-to-poverty ratio below 50 percent \\nin the Minneapolis (4.1 percent), Washington,  \\nDC (4.2 percent), and Denver (4.3 percent) \\nMSAs were not statistically different.\\n18 In 2022, the percentages of people \\nwith an income-to-poverty ratio below 50 \\npercent in the Houston (6.8 percent), Detroit \\n(6.7 percent), New York (6.4 percent), Los \\nAngeles (6.3 percent), and San Antonio \\n(6.2 percent) MSAs were not statistically \\ndifferent.\\n5.7 percent.19 States with among \\nthe highest percentages of indi-\\nviduals living in this near poverty \\ncategory include Mississippi (5.7 \\npercent), New Mexico (5.4 per-\\ncent), Arkansas (5.4 percent), and \\nWest Virginia (5.3 percent).20 \\nThe percentage of individuals \\nin near poverty in Puerto Rico \\nwas 9.0 percent in 2022. From \\n2021 to 2022, the percentage of \\npeople in near poverty increased \\nin three states (Connecticut, New \\nHampshire, and Pennsylvania) \\nand decreased in three oth-\\ners (Alabama, Kentucky, and \\nTennessee).\\nTable 2 (and Appendix Table 4 for \\n2021 estimates) displays the per-\\ncentage of people in near poverty \\nfor 2021 and 2022 among the 25 \\nmost populous metropolitan areas. \\nThe metro areas ranged from 2.3 \\npercent to 4.4 percent.21, 22 \\nLooking at the corresponding \\nnear poverty rates for the 25 most \\n19 In 2022, the percentages of people \\nwith an income-to-poverty ratio between \\n100 percent to below 125 percent was the \\nlowest and not statistically different in \\nNew Hampshire (2.4 percent), New Jersey \\n(2.6 percent), Massachusetts (2.7 percent), \\nMinnesota (2.8 percent), Maryland (2.8 \\npercent), Colorado (2.8 percent), Rhode \\nIsland (2.9 percent), North Dakota (2.9 \\npercent), Vermont (3.0 percent), and the \\nDistrict of Columbia (3.0 percent).\\n20 In 2022, the percentages of individuals \\nwith an income-to-poverty ratio between 100 \\npercent to below 125 percent in Mississippi \\n(5.7 percent), New Mexico (5.4 percent), \\nArkansas (5.4 percent), and West Virginia \\n(5.3 percent) were not statistically different.\\n21 In 2022, the Washington, DC (2.3 \\npercent), Denver (2.3 percent), Minneapolis \\n(2.3 percent), Boston (2.4 percent), Seattle \\n(2.4 percent), and San Francisco (2.6 \\npercent) MSAs all had among the lowest \\npercentage of people in near poverty and \\nwere not statistically different.\\n22 In 2022, the Miami (4.4 percent), \\nOrlando (4.3 percent), Riverside (4.2 \\npercent), San Antonio (4.1 percent), Houston \\n(4.1 percent), and Los Angeles (4.1 percent) \\nmetro areas had among the highest \\npercentages of people in near poverty \\namong the most populous metropolitan \\nstatistical areas and were not statistically \\ndifferent.\\npopulous metropolitan areas in \\n2022, the percentage of people \\nin near poverty increased from \\n2021 in the Washington, DC MSA \\nand decreased in the Detroit MSA \\n(Table 2 and Appendix Table 4). \\nThere was no significant change in \\nnear poverty in the rest of the 25 \\nmost populous metropolitan areas. \\nSUMMARY\\nThis brief used the 2021 and 2022 \\nAmerican Community Survey \\n1-year estimates and the 2021 and \\n2022 Puerto Rico Community \\nSurvey to analyze poverty rates for \\nthe calendar year 2022, as well as \\nchanges in poverty from calendar \\nyear 2021 for the nation, states, the \\nDistrict of Columbia, Puerto Rico, \\nand metro areas. \\nThe national poverty rate \\ndecreased in 2022 from 12.8 \\npercent to 12.6 percent. This \\ndecline follows an increase from \\n2019 to 2021 that had reversed \\na trend of 6 straight years of \\ndeclining poverty from 2014 to \\n2019. The poverty rate decreased \\nin 9 states and the District of \\nColumbia, reversing a state-level \\ntrend that saw 14 states and the \\nDistrict of Columbia increase in \\npoverty between 2019 and 2021. \\nThere were also poverty rate \\ndecreases in 5 of the 25 most \\npopulous metropolitan areas.\\nThe percentage of the U.S. popula-\\ntion with income below 50 percent \\nof their poverty threshold was \\n6.1 percent in 2022 and did not \\nsignificantly change from 2021. Ten \\nstates and the District of Columbia \\nhad declining rates at this income-\\nto-poverty ratio, while four states \\nhad increasing rates compared to \\n2021.'),\n",
       "  Document(metadata={'author': 'U.S. Census Bureau', 'creationdate': '2023-11-29T08:35:27-05:00', 'creator': 'Adobe InDesign 18.2 (Windows)', 'keywords': 'acsbr-016', 'moddate': '2023-11-29T08:44:32-05:00', 'page': 9, 'page_label': '10', 'producer': 'Adobe PDF Library 17.0', 'source': 'us_census/acsbr-016.pdf', 'subject': 'American Community Survey Briefs', 'title': 'Poverty in States and Metropolitan Areas: 2022', 'total_pages': 15, 'trapped': '/False'}, page_content='10 U.S. Census Bureau\\nratios below 50 percent.17 The \\nHouston (6.8 percent), Detroit (6.7 \\npercent), New York (6.4 percent), \\nLos Angeles (6.3 percent), and \\nSan Antonio (6.2 percent) MSAs all \\nwere among the highest rates of \\nindividuals with income-to-poverty \\nratios below 50 percent.18 \\nThe share of people with income \\nbelow 50 percent of their poverty \\nthreshold decreased in 4 of the 25 \\nmost populous metropolitan areas \\nfrom 2021 to 2022, while none of \\nthe largest metropolitan areas saw \\nincreases in the same period.\\nNEAR POVERTY\\nFor those with incomes above their \\npoverty threshold, an income-to-\\npoverty ratio measures how close \\na person is to being in poverty. \\nIndividuals with an income-to-\\npoverty ratio between 100 percent \\nto below 125 percent of their \\npoverty threshold are referred to \\nas being “near poverty” in this \\nbrief.\\nTable 1 displays the percentage of \\npeople in near poverty in 2022 for \\nthe nation, states, the District of \\nColumbia, and Puerto Rico (refer \\nto Appendix Table 3 for 2021 esti-\\nmates). In 2022, the percentage of \\npeople in the United States in near \\npoverty was 3.7 percent, not statis-\\ntically different from 2021.\\nAmong the states, the percentage \\nof individuals in near poverty in \\n2022 ranged from 2.4 percent to \\n17 In 2022, the percentages of people with \\nan income-to-poverty ratio below 50 percent \\nin the Minneapolis (4.1 percent), Washington,  \\nDC (4.2 percent), and Denver (4.3 percent) \\nMSAs were not statistically different.\\n18 In 2022, the percentages of people \\nwith an income-to-poverty ratio below 50 \\npercent in the Houston (6.8 percent), Detroit \\n(6.7 percent), New York (6.4 percent), Los \\nAngeles (6.3 percent), and San Antonio \\n(6.2 percent) MSAs were not statistically \\ndifferent.\\n5.7 percent.19 States with among \\nthe highest percentages of indi-\\nviduals living in this near poverty \\ncategory include Mississippi (5.7 \\npercent), New Mexico (5.4 per-\\ncent), Arkansas (5.4 percent), and \\nWest Virginia (5.3 percent).20 \\nThe percentage of individuals \\nin near poverty in Puerto Rico \\nwas 9.0 percent in 2022. From \\n2021 to 2022, the percentage of \\npeople in near poverty increased \\nin three states (Connecticut, New \\nHampshire, and Pennsylvania) \\nand decreased in three oth-\\ners (Alabama, Kentucky, and \\nTennessee).\\nTable 2 (and Appendix Table 4 for \\n2021 estimates) displays the per-\\ncentage of people in near poverty \\nfor 2021 and 2022 among the 25 \\nmost populous metropolitan areas. \\nThe metro areas ranged from 2.3 \\npercent to 4.4 percent.21, 22 \\nLooking at the corresponding \\nnear poverty rates for the 25 most \\n19 In 2022, the percentages of people \\nwith an income-to-poverty ratio between \\n100 percent to below 125 percent was the \\nlowest and not statistically different in \\nNew Hampshire (2.4 percent), New Jersey \\n(2.6 percent), Massachusetts (2.7 percent), \\nMinnesota (2.8 percent), Maryland (2.8 \\npercent), Colorado (2.8 percent), Rhode \\nIsland (2.9 percent), North Dakota (2.9 \\npercent), Vermont (3.0 percent), and the \\nDistrict of Columbia (3.0 percent).\\n20 In 2022, the percentages of individuals \\nwith an income-to-poverty ratio between 100 \\npercent to below 125 percent in Mississippi \\n(5.7 percent), New Mexico (5.4 percent), \\nArkansas (5.4 percent), and West Virginia \\n(5.3 percent) were not statistically different.\\n21 In 2022, the Washington, DC (2.3 \\npercent), Denver (2.3 percent), Minneapolis \\n(2.3 percent), Boston (2.4 percent), Seattle \\n(2.4 percent), and San Francisco (2.6 \\npercent) MSAs all had among the lowest \\npercentage of people in near poverty and \\nwere not statistically different.\\n22 In 2022, the Miami (4.4 percent), \\nOrlando (4.3 percent), Riverside (4.2 \\npercent), San Antonio (4.1 percent), Houston \\n(4.1 percent), and Los Angeles (4.1 percent) \\nmetro areas had among the highest \\npercentages of people in near poverty \\namong the most populous metropolitan \\nstatistical areas and were not statistically \\ndifferent.\\npopulous metropolitan areas in \\n2022, the percentage of people \\nin near poverty increased from \\n2021 in the Washington, DC MSA \\nand decreased in the Detroit MSA \\n(Table 2 and Appendix Table 4). \\nThere was no significant change in \\nnear poverty in the rest of the 25 \\nmost populous metropolitan areas. \\nSUMMARY\\nThis brief used the 2021 and 2022 \\nAmerican Community Survey \\n1-year estimates and the 2021 and \\n2022 Puerto Rico Community \\nSurvey to analyze poverty rates for \\nthe calendar year 2022, as well as \\nchanges in poverty from calendar \\nyear 2021 for the nation, states, the \\nDistrict of Columbia, Puerto Rico, \\nand metro areas. \\nThe national poverty rate \\ndecreased in 2022 from 12.8 \\npercent to 12.6 percent. This \\ndecline follows an increase from \\n2019 to 2021 that had reversed \\na trend of 6 straight years of \\ndeclining poverty from 2014 to \\n2019. The poverty rate decreased \\nin 9 states and the District of \\nColumbia, reversing a state-level \\ntrend that saw 14 states and the \\nDistrict of Columbia increase in \\npoverty between 2019 and 2021. \\nThere were also poverty rate \\ndecreases in 5 of the 25 most \\npopulous metropolitan areas.\\nThe percentage of the U.S. popula-\\ntion with income below 50 percent \\nof their poverty threshold was \\n6.1 percent in 2022 and did not \\nsignificantly change from 2021. Ten \\nstates and the District of Columbia \\nhad declining rates at this income-\\nto-poverty ratio, while four states \\nhad increasing rates compared to \\n2021.')],\n",
       " 'answer': 'This document provides information about poverty rates and income-to-poverty ratios in the USA. \\n\\nIt states:\\n\\n* **The national poverty rate decreased in 2022 from 12.8 percent to 12.6 percent.**\\n* **6.1 percent of the U.S. population had income below 50 percent of their poverty threshold in 2022.** \\n\\n\\nIt also breaks down this information by state and metropolitan area. \\n'}"
      ]
     },
     "execution_count": 6,
     "metadata": {},
     "output_type": "execute_result"
    }
   ],
   "source": [
    "retriever_chain.invoke({\"input\":\"Household income in usa?\"})\n"
   ]
  },
  {
   "cell_type": "code",
   "execution_count": null,
   "id": "5f75bb68",
   "metadata": {},
   "outputs": [],
   "source": []
  },
  {
   "cell_type": "code",
   "execution_count": null,
   "id": "36910ab9",
   "metadata": {},
   "outputs": [],
   "source": []
  },
  {
   "cell_type": "code",
   "execution_count": null,
   "id": "816cd15a",
   "metadata": {},
   "outputs": [],
   "source": []
  }
 ],
 "metadata": {
  "kernelspec": {
   "display_name": "llm",
   "language": "python",
   "name": "python3"
  },
  "language_info": {
   "codemirror_mode": {
    "name": "ipython",
    "version": 3
   },
   "file_extension": ".py",
   "mimetype": "text/x-python",
   "name": "python",
   "nbconvert_exporter": "python",
   "pygments_lexer": "ipython3",
   "version": "3.10.16"
  }
 },
 "nbformat": 4,
 "nbformat_minor": 5
}
