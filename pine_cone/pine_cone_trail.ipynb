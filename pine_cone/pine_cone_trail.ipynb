{
 "cells": [
  {
   "cell_type": "code",
   "execution_count": 2,
   "id": "afd9b53e",
   "metadata": {},
   "outputs": [
    {
     "name": "stdout",
     "output_type": "stream",
     "text": [
      "Note: you may need to restart the kernel to use updated packages.\n"
     ]
    }
   ],
   "source": [
    "pip install pinecone -q"
   ]
  },
  {
   "cell_type": "code",
   "execution_count": null,
   "id": "cddaac42",
   "metadata": {},
   "outputs": [],
   "source": [
    "pip install pinecone-text -q"
   ]
  },
  {
   "cell_type": "markdown",
   "id": "dad36d88",
   "metadata": {},
   "source": [
    "## importance of hybrid search is that it take into consideration of both\n",
    "\n",
    "1. semantic search ( making use of cosine similarity and vector db is highly dense )\n",
    "2. syntatic search ( making sparse database by making use of BOW, One Hot Encoding,TF-IDF )\n"
   ]
  },
  {
   "cell_type": "code",
   "execution_count": 14,
   "id": "9f2f4dec",
   "metadata": {},
   "outputs": [],
   "source": [
    "from pinecone import Pinecone, ServerlessSpec\n",
    "import json\n",
    "\n",
    "## retrieve api key\n",
    "with open(\"../key.json\") as f:\n",
    "    keys = json.load(f)\n",
    "    pine_api=keys[\"pine_cone_api\"]\n",
    "    \n",
    "pc = Pinecone(api_key=pine_api)"
   ]
  },
  {
   "cell_type": "code",
   "execution_count": 15,
   "id": "b309ac45",
   "metadata": {},
   "outputs": [
    {
     "name": "stdout",
     "output_type": "stream",
     "text": [
      "Pinecone connected\n"
     ]
    }
   ],
   "source": [
    "if pc:\n",
    "    print(\"Pinecone connected\")\n",
    "else:\n",
    "    print(\"Pinecone not connected\")"
   ]
  },
  {
   "cell_type": "code",
   "execution_count": 17,
   "id": "f24fc836",
   "metadata": {},
   "outputs": [],
   "source": [
    "from langchain_community.retrievers import PineconeHybridSearchRetriever\n",
    "\n",
    "## creating index if it does not exist\n",
    "if \"hybriddb\" not in pc.list_indexes():\n",
    "    pc.create_index(name=\"hybriddb\", dimension=384, metric=\"dotproduct\",\n",
    "    spec=ServerlessSpec(\n",
    "        cloud=\"aws\",\n",
    "        region=\"us-east-1\"\n",
    "    )\n",
    "    )\n",
    "\n"
   ]
  },
  {
   "cell_type": "code",
   "execution_count": 49,
   "id": "cad300e1",
   "metadata": {},
   "outputs": [],
   "source": [
    "index=pc.Index(\"hybriddb\")"
   ]
  },
  {
   "cell_type": "code",
   "execution_count": null,
   "id": "3722e14a",
   "metadata": {},
   "outputs": [
    {
     "data": {
      "text/plain": [
       "384"
      ]
     },
     "execution_count": 20,
     "metadata": {},
     "output_type": "execute_result"
    }
   ],
   "source": [
    "## vector embedding and sparse metrics\n",
    "\n",
    "import os\n",
    "from langchain_huggingface import HuggingFaceEmbeddings\n",
    "\n",
    "embedding=HuggingFaceEmbeddings(model_name=\"sentence-transformers/all-MiniLM-L6-v2\")\n",
    "\n",
    "len(embedding.embed_query(\"hello\"))\n",
    "\n",
    "### the len of embedding must match the dimension of the index or else it will throw an error\n",
    "### while embedding into database and hence always check the dimension of embedding in the hugging face model"
   ]
  },
  {
   "cell_type": "code",
   "execution_count": 26,
   "id": "d33c4fd9",
   "metadata": {},
   "outputs": [
    {
     "name": "stderr",
     "output_type": "stream",
     "text": [
      "[nltk_data] Downloading package punkt_tab to /home/vscode/nltk_data...\n",
      "[nltk_data]   Unzipping tokenizers/punkt_tab.zip.\n",
      "[nltk_data] Downloading package stopwords to /home/vscode/nltk_data...\n",
      "[nltk_data]   Unzipping corpora/stopwords.zip.\n"
     ]
    },
    {
     "data": {
      "text/plain": [
       "<pinecone_text.sparse.bm25_encoder.BM25Encoder at 0xffff3fffe8f0>"
      ]
     },
     "execution_count": 26,
     "metadata": {},
     "output_type": "execute_result"
    }
   ],
   "source": [
    "from pinecone_text.sparse import BM25Encoder\n",
    "\n",
    "bm25_encoder = BM25Encoder().default()\n",
    "bm25_encoder"
   ]
  },
  {
   "cell_type": "code",
   "execution_count": 28,
   "id": "775d37fc",
   "metadata": {},
   "outputs": [
    {
     "name": "stderr",
     "output_type": "stream",
     "text": [
      "100%|██████████| 3/3 [00:00<00:00, 99.05it/s]\n"
     ]
    },
    {
     "data": {
      "text/plain": [
       "<pinecone_text.sparse.bm25_encoder.BM25Encoder at 0xffff3fffe8f0>"
      ]
     },
     "execution_count": 28,
     "metadata": {},
     "output_type": "execute_result"
    }
   ],
   "source": [
    "sentences=[\n",
    "    \"In 2025 i will visit india\",\n",
    "    \"In 2024 i visited ireland\",\n",
    "    \"In 2023 i visited germany\",]\n",
    "\n",
    "bm25_encoder.fit(sentences)"
   ]
  },
  {
   "cell_type": "code",
   "execution_count": 44,
   "id": "1ca4bef8",
   "metadata": {},
   "outputs": [],
   "source": [
    "### store the value of the encoder in a file into json format\n",
    "\n",
    "bm25_encoder.dump(\"bm25_encoder.json\")\n",
    "\n",
    "## loading the encoder\n",
    "bn25_encoder = BM25Encoder().load(\"bm25_encoder.json\")"
   ]
  },
  {
   "cell_type": "code",
   "execution_count": 50,
   "id": "18719be2",
   "metadata": {},
   "outputs": [],
   "source": [
    "retriever = PineconeHybridSearchRetriever(\n",
    "    embeddings=embedding,\n",
    "    sparse_encoder=bn25_encoder,\n",
    "    index=index\n",
    ")"
   ]
  },
  {
   "cell_type": "code",
   "execution_count": 51,
   "id": "81a7396f",
   "metadata": {},
   "outputs": [
    {
     "data": {
      "text/plain": [
       "PineconeHybridSearchRetriever(embeddings=HuggingFaceEmbeddings(model_name='sentence-transformers/all-MiniLM-L6-v2', cache_folder=None, model_kwargs={}, encode_kwargs={}, query_encode_kwargs={}, multi_process=False, show_progress=False), sparse_encoder=<pinecone_text.sparse.bm25_encoder.BM25Encoder object at 0xffff3cdc94e0>, index=<pinecone.db_data.index.Index object at 0xffff151b5cf0>)"
      ]
     },
     "execution_count": 51,
     "metadata": {},
     "output_type": "execute_result"
    }
   ],
   "source": [
    "retriever"
   ]
  },
  {
   "cell_type": "code",
   "execution_count": 52,
   "id": "f25cccf9",
   "metadata": {},
   "outputs": [
    {
     "data": {
      "text/plain": [
       "['In 2025 i will visit india',\n",
       " 'In 2024 i visited ireland',\n",
       " 'In 2023 i visited germany']"
      ]
     },
     "execution_count": 52,
     "metadata": {},
     "output_type": "execute_result"
    }
   ],
   "source": [
    "sentences"
   ]
  },
  {
   "cell_type": "code",
   "execution_count": 53,
   "id": "675f5835",
   "metadata": {},
   "outputs": [
    {
     "name": "stderr",
     "output_type": "stream",
     "text": [
      "100%|██████████| 1/1 [00:00<00:00,  1.18it/s]\n"
     ]
    }
   ],
   "source": [
    "retriever.add_texts(\n",
    "    [\"In 2025 i will visit india\",\n",
    "    \"In 2024 i visited ireland\",\n",
    "    \"In 2023 i visited germany\"])"
   ]
  },
  {
   "cell_type": "code",
   "execution_count": 56,
   "id": "5c27e2b4",
   "metadata": {},
   "outputs": [
    {
     "data": {
      "text/plain": [
       "[Document(metadata={'score': 0.326980829}, page_content='In 2023 i visited germany'),\n",
       " Document(metadata={'score': 0.303880274}, page_content='In 2024 i visited ireland'),\n",
       " Document(metadata={'score': 0.233867079}, page_content='In 2025 i will visit india')]"
      ]
     },
     "execution_count": 56,
     "metadata": {},
     "output_type": "execute_result"
    }
   ],
   "source": [
    "retriever.invoke(\"In which country i visited last year\")"
   ]
  },
  {
   "cell_type": "code",
   "execution_count": null,
   "id": "c88693fd",
   "metadata": {},
   "outputs": [],
   "source": []
  }
 ],
 "metadata": {
  "kernelspec": {
   "display_name": "llm",
   "language": "python",
   "name": "python3"
  },
  "language_info": {
   "codemirror_mode": {
    "name": "ipython",
    "version": 3
   },
   "file_extension": ".py",
   "mimetype": "text/x-python",
   "name": "python",
   "nbconvert_exporter": "python",
   "pygments_lexer": "ipython3",
   "version": "3.10.16"
  }
 },
 "nbformat": 4,
 "nbformat_minor": 5
}
