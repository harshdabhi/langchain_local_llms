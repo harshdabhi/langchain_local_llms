{
 "cells": [
  {
   "cell_type": "code",
   "execution_count": 5,
   "id": "7770e4f2",
   "metadata": {},
   "outputs": [],
   "source": [
    "from langchain_community.embeddings import OllamaEmbeddings,HuggingFaceBgeEmbeddings\n",
    "from langchain.text_splitter import RecursiveCharacterTextSplitter\n",
    "from langchain.chains.combine_documents import create_stuff_documents_chain\n",
    "from langchain.prompts import ChatPromptTemplate\n",
    "from langchain_community.document_loaders import WebBaseLoader,PyPDFLoader,PyPDFDirectoryLoader\n",
    "from langchain_community.vectorstores import FAISS\n",
    "from langchain.chains import RetrievalQA\n",
    "from langchain.llms import Ollama\n",
    "\n",
    "import time\n",
    "import json\n",
    "from pathlib import Path\n",
    "\n"
   ]
  },
  {
   "cell_type": "code",
   "execution_count": 3,
   "id": "0de31b1d",
   "metadata": {},
   "outputs": [
    {
     "data": {
      "text/plain": [
       "Document(metadata={'producer': 'Adobe PDF Library 17.0', 'creator': 'Adobe InDesign 18.2 (Windows)', 'creationdate': '2023-09-09T07:52:17-04:00', 'author': 'U.S. Census Bureau', 'keywords': 'acsbr-015', 'moddate': '2023-09-12T14:44:47+01:00', 'title': 'Health Insurance Coverage Status and Type by Geography: 2021 and 2022', 'trapped': '/false', 'source': 'us_census/acsbr-015.pdf', 'total_pages': 18, 'page': 0, 'page_label': '1'}, page_content='Health Insurance Coverage Status and Type \\nby Geography: 2021 and 2022\\nAmerican Community Survey Briefs\\nACSBR-015\\nIssued September 2023\\nDouglas Conway and Breauna Branch\\nINTRODUCTION\\nDemographic shifts as well as economic and govern-\\nment policy changes can affect people’s access to \\nhealth coverage. For example, between 2021 and 2022, \\nthe labor market continued to improve, which may \\nhave affected private coverage in the United States \\nduring that time.\\n1 Public policy changes included')"
      ]
     },
     "execution_count": 3,
     "metadata": {},
     "output_type": "execute_result"
    }
   ],
   "source": [
    "loader=PyPDFDirectoryLoader(\"./us_census\")\n",
    "documents=loader.load()\n",
    "text_splitter=RecursiveCharacterTextSplitter(chunk_size=500,chunk_overlap=50)\n",
    "document_final=text_splitter.split_documents(documents)\n",
    "\n",
    "document_final[0]"
   ]
  },
  {
   "cell_type": "code",
   "execution_count": 4,
   "id": "20c38fd3",
   "metadata": {},
   "outputs": [
    {
     "data": {
      "text/plain": [
       "566"
      ]
     },
     "execution_count": 4,
     "metadata": {},
     "output_type": "execute_result"
    }
   ],
   "source": [
    "len(document_final)"
   ]
  },
  {
   "cell_type": "code",
   "execution_count": 8,
   "id": "028177e5",
   "metadata": {},
   "outputs": [
    {
     "name": "stderr",
     "output_type": "stream",
     "text": [
      "/home/vscode/anaconda3/envs/llm/lib/python3.10/site-packages/tqdm/auto.py:21: TqdmWarning: IProgress not found. Please update jupyter and ipywidgets. See https://ipywidgets.readthedocs.io/en/stable/user_install.html\n",
      "  from .autonotebook import tqdm as notebook_tqdm\n"
     ]
    }
   ],
   "source": [
    "hugging_face_emb=HuggingFaceBgeEmbeddings(\n",
    "    model_name=\"sentence-transformers/all-MiniLM-L6-v2\",\n",
    "    model_kwargs={\"device\": \"cpu\"},\n",
    "    encode_kwargs={\"normalize_embeddings\": True}\n",
    ")"
   ]
  },
  {
   "cell_type": "code",
   "execution_count": 13,
   "id": "4c207ce7",
   "metadata": {},
   "outputs": [],
   "source": [
    "# just for testing\n",
    "emb_docs=hugging_face_emb.embed_documents(document_final[0].page_content)\n",
    "\n",
    "# embedding all documents in vector store db \n",
    "vector_store=FAISS.from_documents(document_final,hugging_face_emb)"
   ]
  },
  {
   "cell_type": "code",
   "execution_count": 32,
   "id": "04500334",
   "metadata": {},
   "outputs": [
    {
     "name": "stdout",
     "output_type": "stream",
     "text": [
      "for Arizona, Oregon, and Vermont \n",
      "were not statistically different from \n",
      "the U.S. median.\n",
      "From 2021 to 2022, five states—\n",
      "Alabama, Alaska, Delaware, Florida, \n",
      "and Utah—showed a statistically \n",
      "significant increase in real median \n",
      "household income; 17 states \n",
      "showed a decrease. Real median \n",
      "household income in 2022 was not \n",
      "statistically different from that in \n",
      "2021 for 28 states, the District of \n",
      "Columbia, and Puerto Rico  \n",
      "(Table 1).\n",
      "Median Household Income in the Past 12 Months\n"
     ]
    }
   ],
   "source": [
    "# query the vector store db\n",
    "query=\"median household income of New Jersey from 2021 to 2022 was it increased or decreased by how much. give me the percentage change and good explanation like you are explaining to child\"\n",
    "docs=vector_store.similarity_search(query,k=3)\n",
    "print(docs[0].page_content)"
   ]
  },
  {
   "cell_type": "code",
   "execution_count": 33,
   "id": "2095c0ce",
   "metadata": {},
   "outputs": [
    {
     "name": "stdout",
     "output_type": "stream",
     "text": [
      "Okay, let's break down the change in median household income for New Jersey from 2021 to 2022.\n",
      "\n",
      "The median household income in New Jersey decreased by about 0.8% from 2021 to 2022.\n",
      "\n",
      "It’s like if you take 0.8 of a point off a number and you’re looking at the whole thing, it means the income is a little bit lower.\n",
      "\n",
      "**Explanation for a Child:**\n",
      "\n",
      "Imagine you have a group of kids and you're all counting how much each kid earns.  In 2021, some kids earned a little more than in 2022.  Because there were fewer kids earning more, the total amount of money earned in New Jersey was a little bit less in 2022 than in 2021.  That's what the percentage change means.\n",
      "\n",
      "**Important Note:** The text also tells us that there were *no* significant differences in median household income between New Jersey and the other states, the District of Columbia, and Puerto Rico.  So, the change was pretty small in New Jersey.\n",
      "\n",
      "Do you have any other questions about this information?\n"
     ]
    }
   ],
   "source": [
    "retrieval=vector_store.as_retriever()\n",
    "\n",
    "llm=Ollama(model=\"Gemma3:1b\",base_url=\"http://host.docker.internal:11434\",verbose=True)\n",
    "qa_chain=RetrievalQA.from_chain_type(llm=llm,chain_type=\"stuff\",retriever=retrieval)\n",
    "result=qa_chain({\"query\":query})\n",
    "print(result[\"result\"])"
   ]
  },
  {
   "cell_type": "code",
   "execution_count": null,
   "id": "e242f656",
   "metadata": {},
   "outputs": [],
   "source": []
  }
 ],
 "metadata": {
  "kernelspec": {
   "display_name": "llm",
   "language": "python",
   "name": "python3"
  },
  "language_info": {
   "codemirror_mode": {
    "name": "ipython",
    "version": 3
   },
   "file_extension": ".py",
   "mimetype": "text/x-python",
   "name": "python",
   "nbconvert_exporter": "python",
   "pygments_lexer": "ipython3",
   "version": "3.10.16"
  }
 },
 "nbformat": 4,
 "nbformat_minor": 5
}
